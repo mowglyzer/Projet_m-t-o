{
 "cells": [
  {
   "cell_type": "code",
   "execution_count": 68,
   "id": "126537dd",
   "metadata": {},
   "outputs": [],
   "source": [
    "import cv2 \n",
    "import glob \n",
    "import os\n",
    "import numpy as np\n",
    "from matplotlib import pyplot as plt\n",
    "import pandas as pd\n",
    "import seaborn as sns\n",
    "from skimage.transform import resize\n",
    "import matplotlib.pyplot as plt\n",
    "import pandas as pd\n",
    "import re\n",
    "from nltk.tokenize import word_tokenize\n",
    "import nltk\n",
    "from nltk.corpus import stopwords\n",
    "import spacy\n",
    "import string\n",
    "import warnings\n",
    "from sklearn.model_selection import GridSearchCV\n",
    "from sklearn.pipeline import Pipeline\n",
    "from sklearn.pipeline import make_pipeline\n",
    "from sklearn.preprocessing import StandardScaler\n",
    "from sklearn.cluster import MiniBatchKMeans\n",
    "from sklearn.model_selection import train_test_split\n",
    "from sklearn import preprocessing\n",
    "from sklearn.metrics import precision_score\n",
    "from sklearn.neural_network import MLPClassifier\n",
    "from sklearn.neighbors import KNeighborsClassifier\n",
    "from sklearn.svm import SVC, NuSVC, LinearSVC\n",
    "from sklearn.linear_model import Perceptron"
   ]
  },
  {
   "cell_type": "code",
   "execution_count": 8,
   "id": "98a15e89",
   "metadata": {},
   "outputs": [],
   "source": [
    "def extract():\n",
    "#Permet d'extraire les images et de les stocker dans une liste\n",
    "#renvoie en deuxieme une liste contenant la taille de toutes les images\n",
    "    taille_image=[]\n",
    "    liste=[]\n",
    "    liste_nom=[]\n",
    "    for file in glob.glob(\"dataset/*\"):\n",
    "        img = cv2.imread(file)\n",
    "        taille_image.append(img.shape[:2])\n",
    "        liste.append(img)\n",
    "        liste_nom.append(file)\n",
    "    return liste_nom , liste, taille_image"
   ]
  },
  {
   "cell_type": "code",
   "execution_count": 9,
   "id": "56b80eab",
   "metadata": {},
   "outputs": [],
   "source": [
    "liste_nom, liste_image, liste_taille = extract()"
   ]
  },
  {
   "cell_type": "code",
   "execution_count": 10,
   "id": "74095347",
   "metadata": {},
   "outputs": [],
   "source": [
    "def transform_keypoints(liste_img):\n",
    "#retourne une liste d'images transformées avec les keypoints ainsi qu'une liste des keypoints pour chaque image\n",
    "    liste_img_transform=[]\n",
    "    liste_kp=[]\n",
    "    liste_des=[]\n",
    "    for img in liste_img:\n",
    "        gray= cv2.cvtColor(img,cv2.COLOR_BGR2GRAY)\n",
    "        sift = cv2.SIFT_create(300)\n",
    "        res = cv2.equalizeHist(gray)\n",
    "        kp, des = sift.detectAndCompute(res, None)\n",
    "        img=cv2.drawKeypoints(gray , \n",
    "                      kp , \n",
    "                      img , \n",
    "                      flags=cv2.DRAW_MATCHES_FLAGS_DRAW_RICH_KEYPOINTS)\n",
    "        liste_img_transform.append(img)\n",
    "        liste_kp.append(kp)\n",
    "        liste_des.append(des)\n",
    "    return liste_img_transform, liste_kp, liste_des"
   ]
  },
  {
   "cell_type": "code",
   "execution_count": 11,
   "id": "e27c26ef",
   "metadata": {},
   "outputs": [],
   "source": [
    "liste_img_transform, liste_kp, liste_des = transform_keypoints(liste_image)"
   ]
  },
  {
   "cell_type": "code",
   "execution_count": 12,
   "id": "91c08e1e",
   "metadata": {},
   "outputs": [],
   "source": [
    "df = pd.DataFrame(zip(liste_nom,liste_kp, liste_des), columns=['Image','liste_kp','liste_des'])"
   ]
  },
  {
   "cell_type": "code",
   "execution_count": 13,
   "id": "630fdb93",
   "metadata": {},
   "outputs": [],
   "source": [
    "df['label']=None"
   ]
  },
  {
   "cell_type": "code",
   "execution_count": 14,
   "id": "91876711",
   "metadata": {},
   "outputs": [
    {
     "data": {
      "text/html": [
       "<div>\n",
       "<style scoped>\n",
       "    .dataframe tbody tr th:only-of-type {\n",
       "        vertical-align: middle;\n",
       "    }\n",
       "\n",
       "    .dataframe tbody tr th {\n",
       "        vertical-align: top;\n",
       "    }\n",
       "\n",
       "    .dataframe thead th {\n",
       "        text-align: right;\n",
       "    }\n",
       "</style>\n",
       "<table border=\"1\" class=\"dataframe\">\n",
       "  <thead>\n",
       "    <tr style=\"text-align: right;\">\n",
       "      <th></th>\n",
       "      <th>Image</th>\n",
       "      <th>liste_kp</th>\n",
       "      <th>liste_des</th>\n",
       "      <th>label</th>\n",
       "    </tr>\n",
       "  </thead>\n",
       "  <tbody>\n",
       "    <tr>\n",
       "      <th>0</th>\n",
       "      <td>dataset\\cloudy1.jpg</td>\n",
       "      <td>(&lt;KeyPoint 000001F2349181E0&gt;, &lt;KeyPoint 000001...</td>\n",
       "      <td>[[51.0, 0.0, 0.0, 0.0, 0.0, 0.0, 1.0, 95.0, 99...</td>\n",
       "      <td>cloudy</td>\n",
       "    </tr>\n",
       "    <tr>\n",
       "      <th>1</th>\n",
       "      <td>dataset\\cloudy10.jpg</td>\n",
       "      <td>(&lt;KeyPoint 000001F2010ED600&gt;, &lt;KeyPoint 000001...</td>\n",
       "      <td>[[55.0, 19.0, 20.0, 3.0, 0.0, 0.0, 0.0, 18.0, ...</td>\n",
       "      <td>cloudy</td>\n",
       "    </tr>\n",
       "    <tr>\n",
       "      <th>2</th>\n",
       "      <td>dataset\\cloudy100.jpg</td>\n",
       "      <td>(&lt;KeyPoint 000001F23EC64B40&gt;, &lt;KeyPoint 000001...</td>\n",
       "      <td>[[71.0, 10.0, 2.0, 22.0, 15.0, 1.0, 0.0, 16.0,...</td>\n",
       "      <td>cloudy</td>\n",
       "    </tr>\n",
       "    <tr>\n",
       "      <th>3</th>\n",
       "      <td>dataset\\cloudy11.jpg</td>\n",
       "      <td>(&lt;KeyPoint 000001F23EC68480&gt;, &lt;KeyPoint 000001...</td>\n",
       "      <td>[[65.0, 16.0, 0.0, 0.0, 2.0, 2.0, 1.0, 3.0, 16...</td>\n",
       "      <td>cloudy</td>\n",
       "    </tr>\n",
       "    <tr>\n",
       "      <th>4</th>\n",
       "      <td>dataset\\cloudy12.jpg</td>\n",
       "      <td>(&lt;KeyPoint 000001F201144D80&gt;, &lt;KeyPoint 000001...</td>\n",
       "      <td>[[27.0, 78.0, 116.0, 22.0, 2.0, 2.0, 0.0, 0.0,...</td>\n",
       "      <td>cloudy</td>\n",
       "    </tr>\n",
       "  </tbody>\n",
       "</table>\n",
       "</div>"
      ],
      "text/plain": [
       "                   Image                                           liste_kp  \\\n",
       "0    dataset\\cloudy1.jpg  (<KeyPoint 000001F2349181E0>, <KeyPoint 000001...   \n",
       "1   dataset\\cloudy10.jpg  (<KeyPoint 000001F2010ED600>, <KeyPoint 000001...   \n",
       "2  dataset\\cloudy100.jpg  (<KeyPoint 000001F23EC64B40>, <KeyPoint 000001...   \n",
       "3   dataset\\cloudy11.jpg  (<KeyPoint 000001F23EC68480>, <KeyPoint 000001...   \n",
       "4   dataset\\cloudy12.jpg  (<KeyPoint 000001F201144D80>, <KeyPoint 000001...   \n",
       "\n",
       "                                           liste_des    label  \n",
       "0  [[51.0, 0.0, 0.0, 0.0, 0.0, 0.0, 1.0, 95.0, 99...   cloudy  \n",
       "1  [[55.0, 19.0, 20.0, 3.0, 0.0, 0.0, 0.0, 18.0, ...   cloudy  \n",
       "2  [[71.0, 10.0, 2.0, 22.0, 15.0, 1.0, 0.0, 16.0,...   cloudy  \n",
       "3  [[65.0, 16.0, 0.0, 0.0, 2.0, 2.0, 1.0, 3.0, 16...   cloudy  \n",
       "4  [[27.0, 78.0, 116.0, 22.0, 2.0, 2.0, 0.0, 0.0,...   cloudy  "
      ]
     },
     "execution_count": 14,
     "metadata": {},
     "output_type": "execute_result"
    }
   ],
   "source": [
    "for i in range(df.shape[0]):\n",
    "    df['label'][i]=' '.join((re.sub(r'[0-9]+', '', df['Image'][i]).split(\"dataset\"))).replace('\\\\','').replace('.jpg','').replace('.jpeg','')\n",
    "df.head()"
   ]
  },
  {
   "cell_type": "code",
   "execution_count": 16,
   "id": "fea6dbe5",
   "metadata": {},
   "outputs": [],
   "source": [
    "sift_keypoints_all    = np.concatenate(liste_des, axis=0)"
   ]
  },
  {
   "cell_type": "code",
   "execution_count": 17,
   "id": "3b4e1e52",
   "metadata": {},
   "outputs": [
    {
     "data": {
      "text/plain": [
       "array([[ 51.,   0.,   0., ...,   0.,   0.,   0.],\n",
       "       [  0.,   0.,   0., ...,   1.,   0.,  10.],\n",
       "       [  0.,   0.,   0., ...,   0.,   0.,   0.],\n",
       "       ...,\n",
       "       [  0.,   6.,  15., ...,   1.,   0.,   0.],\n",
       "       [136.,  53.,   0., ...,   0.,   0.,   0.],\n",
       "       [ 36.,   2.,   0., ...,   6.,   1.,   5.]], dtype=float32)"
      ]
     },
     "execution_count": 17,
     "metadata": {},
     "output_type": "execute_result"
    }
   ],
   "source": [
    "sift_keypoints_all"
   ]
  },
  {
   "cell_type": "code",
   "execution_count": null,
   "id": "b0f16cfa",
   "metadata": {},
   "outputs": [],
   "source": [
    "liste_des"
   ]
  },
  {
   "cell_type": "code",
   "execution_count": 19,
   "id": "96b04919",
   "metadata": {},
   "outputs": [],
   "source": [
    "k=round(np.sqrt(len(sift_keypoints_all)))"
   ]
  },
  {
   "cell_type": "code",
   "execution_count": 20,
   "id": "573efe8f",
   "metadata": {},
   "outputs": [
    {
     "data": {
      "text/plain": [
       "322"
      ]
     },
     "execution_count": 20,
     "metadata": {},
     "output_type": "execute_result"
    }
   ],
   "source": [
    "k"
   ]
  },
  {
   "cell_type": "code",
   "execution_count": 21,
   "id": "b64139c2",
   "metadata": {},
   "outputs": [
    {
     "name": "stderr",
     "output_type": "stream",
     "text": [
      "C:\\Users\\Moog\\anaconda3\\lib\\site-packages\\sklearn\\cluster\\_kmeans.py:887: UserWarning: MiniBatchKMeans is known to have a memory leak on Windows with MKL, when there are less chunks than available threads. You can prevent it by setting batch_size >= 1024 or by setting the environment variable OMP_NUM_THREADS=1\n",
      "  warnings.warn(\n"
     ]
    },
    {
     "data": {
      "text/plain": [
       "array([[29.421846 , 12.220341 ,  4.747646 , ...,  7.954802 ,  2.4952908,\n",
       "        14.962336 ],\n",
       "       [16.872925 , 11.251381 ,  9.138126 , ...,  6.3066287,  8.353584 ,\n",
       "        16.262428 ],\n",
       "       [72.17088  , 26.418184 ,  5.305455 , ...,  2.8109086,  3.9818196,\n",
       "        16.36     ],\n",
       "       ...,\n",
       "       [31.611105 , 19.64286  ,  8.920635 , ...,  8.730161 ,  6.34127  ,\n",
       "        17.079367 ],\n",
       "       [ 6.7568808,  9.325691 , 11.720184 , ...,  2.513762 ,  4.628441 ,\n",
       "         9.844032 ],\n",
       "       [24.056816 , 33.142056 , 30.511375 , ..., 12.204545 ,  9.346592 ,\n",
       "        14.818182 ]], dtype=float32)"
      ]
     },
     "execution_count": 21,
     "metadata": {},
     "output_type": "execute_result"
    }
   ],
   "source": [
    "kmeans = MiniBatchKMeans(n_clusters=k,\n",
    "                         random_state=0,\n",
    "                         batch_size=6,\n",
    "                         max_iter=10).fit(sift_keypoints_all)\n",
    "kmeans.cluster_centers_"
   ]
  },
  {
   "cell_type": "code",
   "execution_count": 22,
   "id": "9af2c01e",
   "metadata": {},
   "outputs": [
    {
     "data": {
      "text/plain": [
       "array([106, 106, 258, 215, 150,  95, 142,  11, 114, 190, 246,  81, 207,\n",
       "        45, 251, 230,  18, 185,  27, 172, 270,  13,  53, 149,  26, 316,\n",
       "       101, 252,  16, 207, 169,  17,  44,   8, 108,  94, 276,  43, 189,\n",
       "       189, 281, 138, 122,  53, 147, 213, 117, 116, 153, 103, 202,  65,\n",
       "        20, 184, 221,  53, 184, 221,  20,   7,  75, 179,  94, 169, 207,\n",
       "       290,  86,  56,  81, 144,  52, 283, 142, 245, 315, 183, 272, 125,\n",
       "       151,  11,  79,   0, 289,   3, 232,  39,  45, 245,  71, 102,  33,\n",
       "       256, 320, 251,  79, 179, 201, 140,  75, 287,  45, 138, 250, 168,\n",
       "        20, 108, 216, 164, 138, 254, 273, 190,  86,  23,  37,  18, 238,\n",
       "       210, 129, 237, 226, 246,  81,  22,  86, 238, 207, 136,  18, 215,\n",
       "       198,  63, 234, 100, 143, 283, 215,  20, 222, 129, 192, 230, 293,\n",
       "       141,  57, 254, 235, 309,   7, 233, 313, 293, 139, 242,  92, 158,\n",
       "        45, 114,  20, 226,  43,  24, 188, 138,  14, 231, 118, 256, 235,\n",
       "       309, 188, 282,  49, 317,  55,  94, 129, 219, 242, 203, 112,  77,\n",
       "        80, 188, 180, 123, 116,  62,   9,  79,  20,  58, 153,  95,  47,\n",
       "       265, 129, 321, 194, 288,  30, 202, 207,  45, 143, 291, 288, 155,\n",
       "       207, 169, 269,  83, 256,  11, 188, 165, 203, 222, 201, 166, 181,\n",
       "       251, 252,  57, 309, 131, 109, 222, 222,  11,  95, 138, 117,   7,\n",
       "         8, 240, 215, 309,   0,  84, 203,  53,  12, 105,  46,  24,   3,\n",
       "       166, 154,  59, 231, 136, 256, 188, 215, 153, 103, 225, 166,  11,\n",
       "       131, 103, 137, 159, 163, 219, 316, 279,  73,  74, 244,  45, 131,\n",
       "       151, 164,  92, 306,  39,  46, 116, 107,  36,   1, 167, 115, 320,\n",
       "       314,  66, 188, 177, 153,  49,  60, 250, 192, 177,   0, 159, 107,\n",
       "        49])"
      ]
     },
     "execution_count": 22,
     "metadata": {},
     "output_type": "execute_result"
    }
   ],
   "source": [
    "kmeans.predict(df['liste_des'][2])"
   ]
  },
  {
   "cell_type": "code",
   "execution_count": 23,
   "id": "18e6a2b5",
   "metadata": {},
   "outputs": [],
   "source": [
    "def build_histogram(kmeans, des, image_num): ## fonction qui nou permet de crée un histogramme par image \n",
    "    res = kmeans.predict(des)\n",
    "    hist = np.zeros(len(kmeans.cluster_centers_))\n",
    "    nb_des=len(des)\n",
    "    if nb_des==0 : print(\"problème histogramme image  : \", image_num)\n",
    "    for i in res:\n",
    "        hist[i] += 1.0/nb_des\n",
    "    return hist\n"
   ]
  },
  {
   "cell_type": "code",
   "execution_count": 24,
   "id": "542d2ddc",
   "metadata": {},
   "outputs": [],
   "source": [
    "hist_tous=[]\n",
    "for i, des in enumerate(liste_des):\n",
    "    \n",
    "    hist_tous.append(build_histogram(kmeans, des, i))\n"
   ]
  },
  {
   "cell_type": "code",
   "execution_count": 25,
   "id": "2b674f7c",
   "metadata": {},
   "outputs": [],
   "source": [
    "X_features=pd.DataFrame(np.asarray(hist_tous))"
   ]
  },
  {
   "cell_type": "code",
   "execution_count": 26,
   "id": "729f3143",
   "metadata": {},
   "outputs": [
    {
     "data": {
      "text/plain": [
       "(400, 322)"
      ]
     },
     "execution_count": 26,
     "metadata": {},
     "output_type": "execute_result"
    }
   ],
   "source": [
    "X_features.shape"
   ]
  },
  {
   "cell_type": "code",
   "execution_count": 27,
   "id": "585a44e0",
   "metadata": {},
   "outputs": [
    {
     "data": {
      "text/html": [
       "<div>\n",
       "<style scoped>\n",
       "    .dataframe tbody tr th:only-of-type {\n",
       "        vertical-align: middle;\n",
       "    }\n",
       "\n",
       "    .dataframe tbody tr th {\n",
       "        vertical-align: top;\n",
       "    }\n",
       "\n",
       "    .dataframe thead th {\n",
       "        text-align: right;\n",
       "    }\n",
       "</style>\n",
       "<table border=\"1\" class=\"dataframe\">\n",
       "  <thead>\n",
       "    <tr style=\"text-align: right;\">\n",
       "      <th></th>\n",
       "      <th>0</th>\n",
       "      <th>1</th>\n",
       "      <th>2</th>\n",
       "      <th>3</th>\n",
       "      <th>4</th>\n",
       "      <th>5</th>\n",
       "      <th>6</th>\n",
       "      <th>7</th>\n",
       "      <th>8</th>\n",
       "      <th>9</th>\n",
       "      <th>...</th>\n",
       "      <th>312</th>\n",
       "      <th>313</th>\n",
       "      <th>314</th>\n",
       "      <th>315</th>\n",
       "      <th>316</th>\n",
       "      <th>317</th>\n",
       "      <th>318</th>\n",
       "      <th>319</th>\n",
       "      <th>320</th>\n",
       "      <th>321</th>\n",
       "    </tr>\n",
       "  </thead>\n",
       "  <tbody>\n",
       "    <tr>\n",
       "      <th>0</th>\n",
       "      <td>0.000000</td>\n",
       "      <td>0.013514</td>\n",
       "      <td>0.013514</td>\n",
       "      <td>0.000000</td>\n",
       "      <td>0.000000</td>\n",
       "      <td>0.000000</td>\n",
       "      <td>0.000000</td>\n",
       "      <td>0.000000</td>\n",
       "      <td>0.000000</td>\n",
       "      <td>0.000000</td>\n",
       "      <td>...</td>\n",
       "      <td>0.000000</td>\n",
       "      <td>0.000000</td>\n",
       "      <td>0.000000</td>\n",
       "      <td>0.000000</td>\n",
       "      <td>0.000000</td>\n",
       "      <td>0.000000</td>\n",
       "      <td>0.000000</td>\n",
       "      <td>0.000000</td>\n",
       "      <td>0.013514</td>\n",
       "      <td>0.000000</td>\n",
       "    </tr>\n",
       "    <tr>\n",
       "      <th>1</th>\n",
       "      <td>0.000000</td>\n",
       "      <td>0.003322</td>\n",
       "      <td>0.013289</td>\n",
       "      <td>0.003322</td>\n",
       "      <td>0.000000</td>\n",
       "      <td>0.006645</td>\n",
       "      <td>0.006645</td>\n",
       "      <td>0.013289</td>\n",
       "      <td>0.009967</td>\n",
       "      <td>0.003322</td>\n",
       "      <td>...</td>\n",
       "      <td>0.000000</td>\n",
       "      <td>0.003322</td>\n",
       "      <td>0.003322</td>\n",
       "      <td>0.006645</td>\n",
       "      <td>0.003322</td>\n",
       "      <td>0.000000</td>\n",
       "      <td>0.003322</td>\n",
       "      <td>0.000000</td>\n",
       "      <td>0.000000</td>\n",
       "      <td>0.000000</td>\n",
       "    </tr>\n",
       "    <tr>\n",
       "      <th>2</th>\n",
       "      <td>0.010000</td>\n",
       "      <td>0.003333</td>\n",
       "      <td>0.000000</td>\n",
       "      <td>0.006667</td>\n",
       "      <td>0.000000</td>\n",
       "      <td>0.000000</td>\n",
       "      <td>0.000000</td>\n",
       "      <td>0.010000</td>\n",
       "      <td>0.006667</td>\n",
       "      <td>0.003333</td>\n",
       "      <td>...</td>\n",
       "      <td>0.000000</td>\n",
       "      <td>0.003333</td>\n",
       "      <td>0.003333</td>\n",
       "      <td>0.003333</td>\n",
       "      <td>0.006667</td>\n",
       "      <td>0.003333</td>\n",
       "      <td>0.000000</td>\n",
       "      <td>0.000000</td>\n",
       "      <td>0.006667</td>\n",
       "      <td>0.003333</td>\n",
       "    </tr>\n",
       "    <tr>\n",
       "      <th>3</th>\n",
       "      <td>0.000000</td>\n",
       "      <td>0.003333</td>\n",
       "      <td>0.000000</td>\n",
       "      <td>0.000000</td>\n",
       "      <td>0.003333</td>\n",
       "      <td>0.000000</td>\n",
       "      <td>0.003333</td>\n",
       "      <td>0.000000</td>\n",
       "      <td>0.016667</td>\n",
       "      <td>0.003333</td>\n",
       "      <td>...</td>\n",
       "      <td>0.000000</td>\n",
       "      <td>0.003333</td>\n",
       "      <td>0.003333</td>\n",
       "      <td>0.003333</td>\n",
       "      <td>0.006667</td>\n",
       "      <td>0.010000</td>\n",
       "      <td>0.000000</td>\n",
       "      <td>0.006667</td>\n",
       "      <td>0.000000</td>\n",
       "      <td>0.003333</td>\n",
       "    </tr>\n",
       "    <tr>\n",
       "      <th>4</th>\n",
       "      <td>0.000000</td>\n",
       "      <td>0.006667</td>\n",
       "      <td>0.000000</td>\n",
       "      <td>0.003333</td>\n",
       "      <td>0.003333</td>\n",
       "      <td>0.000000</td>\n",
       "      <td>0.003333</td>\n",
       "      <td>0.003333</td>\n",
       "      <td>0.000000</td>\n",
       "      <td>0.000000</td>\n",
       "      <td>...</td>\n",
       "      <td>0.000000</td>\n",
       "      <td>0.006667</td>\n",
       "      <td>0.006667</td>\n",
       "      <td>0.006667</td>\n",
       "      <td>0.010000</td>\n",
       "      <td>0.003333</td>\n",
       "      <td>0.000000</td>\n",
       "      <td>0.003333</td>\n",
       "      <td>0.013333</td>\n",
       "      <td>0.000000</td>\n",
       "    </tr>\n",
       "    <tr>\n",
       "      <th>...</th>\n",
       "      <td>...</td>\n",
       "      <td>...</td>\n",
       "      <td>...</td>\n",
       "      <td>...</td>\n",
       "      <td>...</td>\n",
       "      <td>...</td>\n",
       "      <td>...</td>\n",
       "      <td>...</td>\n",
       "      <td>...</td>\n",
       "      <td>...</td>\n",
       "      <td>...</td>\n",
       "      <td>...</td>\n",
       "      <td>...</td>\n",
       "      <td>...</td>\n",
       "      <td>...</td>\n",
       "      <td>...</td>\n",
       "      <td>...</td>\n",
       "      <td>...</td>\n",
       "      <td>...</td>\n",
       "      <td>...</td>\n",
       "      <td>...</td>\n",
       "    </tr>\n",
       "    <tr>\n",
       "      <th>395</th>\n",
       "      <td>0.000000</td>\n",
       "      <td>0.000000</td>\n",
       "      <td>0.000000</td>\n",
       "      <td>0.003333</td>\n",
       "      <td>0.000000</td>\n",
       "      <td>0.000000</td>\n",
       "      <td>0.000000</td>\n",
       "      <td>0.000000</td>\n",
       "      <td>0.006667</td>\n",
       "      <td>0.003333</td>\n",
       "      <td>...</td>\n",
       "      <td>0.000000</td>\n",
       "      <td>0.003333</td>\n",
       "      <td>0.006667</td>\n",
       "      <td>0.000000</td>\n",
       "      <td>0.016667</td>\n",
       "      <td>0.000000</td>\n",
       "      <td>0.000000</td>\n",
       "      <td>0.003333</td>\n",
       "      <td>0.000000</td>\n",
       "      <td>0.003333</td>\n",
       "    </tr>\n",
       "    <tr>\n",
       "      <th>396</th>\n",
       "      <td>0.053333</td>\n",
       "      <td>0.000000</td>\n",
       "      <td>0.000000</td>\n",
       "      <td>0.000000</td>\n",
       "      <td>0.000000</td>\n",
       "      <td>0.000000</td>\n",
       "      <td>0.000000</td>\n",
       "      <td>0.000000</td>\n",
       "      <td>0.013333</td>\n",
       "      <td>0.000000</td>\n",
       "      <td>...</td>\n",
       "      <td>0.000000</td>\n",
       "      <td>0.000000</td>\n",
       "      <td>0.000000</td>\n",
       "      <td>0.040000</td>\n",
       "      <td>0.006667</td>\n",
       "      <td>0.000000</td>\n",
       "      <td>0.000000</td>\n",
       "      <td>0.003333</td>\n",
       "      <td>0.000000</td>\n",
       "      <td>0.000000</td>\n",
       "    </tr>\n",
       "    <tr>\n",
       "      <th>397</th>\n",
       "      <td>0.009174</td>\n",
       "      <td>0.000000</td>\n",
       "      <td>0.000000</td>\n",
       "      <td>0.009174</td>\n",
       "      <td>0.000000</td>\n",
       "      <td>0.009174</td>\n",
       "      <td>0.009174</td>\n",
       "      <td>0.018349</td>\n",
       "      <td>0.000000</td>\n",
       "      <td>0.009174</td>\n",
       "      <td>...</td>\n",
       "      <td>0.018349</td>\n",
       "      <td>0.000000</td>\n",
       "      <td>0.000000</td>\n",
       "      <td>0.027523</td>\n",
       "      <td>0.000000</td>\n",
       "      <td>0.000000</td>\n",
       "      <td>0.000000</td>\n",
       "      <td>0.000000</td>\n",
       "      <td>0.000000</td>\n",
       "      <td>0.000000</td>\n",
       "    </tr>\n",
       "    <tr>\n",
       "      <th>398</th>\n",
       "      <td>0.016667</td>\n",
       "      <td>0.000000</td>\n",
       "      <td>0.006667</td>\n",
       "      <td>0.000000</td>\n",
       "      <td>0.003333</td>\n",
       "      <td>0.006667</td>\n",
       "      <td>0.000000</td>\n",
       "      <td>0.016667</td>\n",
       "      <td>0.010000</td>\n",
       "      <td>0.006667</td>\n",
       "      <td>...</td>\n",
       "      <td>0.000000</td>\n",
       "      <td>0.000000</td>\n",
       "      <td>0.000000</td>\n",
       "      <td>0.003333</td>\n",
       "      <td>0.003333</td>\n",
       "      <td>0.006667</td>\n",
       "      <td>0.000000</td>\n",
       "      <td>0.000000</td>\n",
       "      <td>0.000000</td>\n",
       "      <td>0.000000</td>\n",
       "    </tr>\n",
       "    <tr>\n",
       "      <th>399</th>\n",
       "      <td>0.000000</td>\n",
       "      <td>0.000000</td>\n",
       "      <td>0.036585</td>\n",
       "      <td>0.000000</td>\n",
       "      <td>0.000000</td>\n",
       "      <td>0.000000</td>\n",
       "      <td>0.012195</td>\n",
       "      <td>0.012195</td>\n",
       "      <td>0.000000</td>\n",
       "      <td>0.000000</td>\n",
       "      <td>...</td>\n",
       "      <td>0.000000</td>\n",
       "      <td>0.000000</td>\n",
       "      <td>0.000000</td>\n",
       "      <td>0.000000</td>\n",
       "      <td>0.000000</td>\n",
       "      <td>0.000000</td>\n",
       "      <td>0.000000</td>\n",
       "      <td>0.000000</td>\n",
       "      <td>0.000000</td>\n",
       "      <td>0.000000</td>\n",
       "    </tr>\n",
       "  </tbody>\n",
       "</table>\n",
       "<p>400 rows × 322 columns</p>\n",
       "</div>"
      ],
      "text/plain": [
       "          0         1         2         3         4         5         6    \\\n",
       "0    0.000000  0.013514  0.013514  0.000000  0.000000  0.000000  0.000000   \n",
       "1    0.000000  0.003322  0.013289  0.003322  0.000000  0.006645  0.006645   \n",
       "2    0.010000  0.003333  0.000000  0.006667  0.000000  0.000000  0.000000   \n",
       "3    0.000000  0.003333  0.000000  0.000000  0.003333  0.000000  0.003333   \n",
       "4    0.000000  0.006667  0.000000  0.003333  0.003333  0.000000  0.003333   \n",
       "..        ...       ...       ...       ...       ...       ...       ...   \n",
       "395  0.000000  0.000000  0.000000  0.003333  0.000000  0.000000  0.000000   \n",
       "396  0.053333  0.000000  0.000000  0.000000  0.000000  0.000000  0.000000   \n",
       "397  0.009174  0.000000  0.000000  0.009174  0.000000  0.009174  0.009174   \n",
       "398  0.016667  0.000000  0.006667  0.000000  0.003333  0.006667  0.000000   \n",
       "399  0.000000  0.000000  0.036585  0.000000  0.000000  0.000000  0.012195   \n",
       "\n",
       "          7         8         9    ...       312       313       314  \\\n",
       "0    0.000000  0.000000  0.000000  ...  0.000000  0.000000  0.000000   \n",
       "1    0.013289  0.009967  0.003322  ...  0.000000  0.003322  0.003322   \n",
       "2    0.010000  0.006667  0.003333  ...  0.000000  0.003333  0.003333   \n",
       "3    0.000000  0.016667  0.003333  ...  0.000000  0.003333  0.003333   \n",
       "4    0.003333  0.000000  0.000000  ...  0.000000  0.006667  0.006667   \n",
       "..        ...       ...       ...  ...       ...       ...       ...   \n",
       "395  0.000000  0.006667  0.003333  ...  0.000000  0.003333  0.006667   \n",
       "396  0.000000  0.013333  0.000000  ...  0.000000  0.000000  0.000000   \n",
       "397  0.018349  0.000000  0.009174  ...  0.018349  0.000000  0.000000   \n",
       "398  0.016667  0.010000  0.006667  ...  0.000000  0.000000  0.000000   \n",
       "399  0.012195  0.000000  0.000000  ...  0.000000  0.000000  0.000000   \n",
       "\n",
       "          315       316       317       318       319       320       321  \n",
       "0    0.000000  0.000000  0.000000  0.000000  0.000000  0.013514  0.000000  \n",
       "1    0.006645  0.003322  0.000000  0.003322  0.000000  0.000000  0.000000  \n",
       "2    0.003333  0.006667  0.003333  0.000000  0.000000  0.006667  0.003333  \n",
       "3    0.003333  0.006667  0.010000  0.000000  0.006667  0.000000  0.003333  \n",
       "4    0.006667  0.010000  0.003333  0.000000  0.003333  0.013333  0.000000  \n",
       "..        ...       ...       ...       ...       ...       ...       ...  \n",
       "395  0.000000  0.016667  0.000000  0.000000  0.003333  0.000000  0.003333  \n",
       "396  0.040000  0.006667  0.000000  0.000000  0.003333  0.000000  0.000000  \n",
       "397  0.027523  0.000000  0.000000  0.000000  0.000000  0.000000  0.000000  \n",
       "398  0.003333  0.003333  0.006667  0.000000  0.000000  0.000000  0.000000  \n",
       "399  0.000000  0.000000  0.000000  0.000000  0.000000  0.000000  0.000000  \n",
       "\n",
       "[400 rows x 322 columns]"
      ]
     },
     "execution_count": 27,
     "metadata": {},
     "output_type": "execute_result"
    }
   ],
   "source": [
    "X_features"
   ]
  },
  {
   "cell_type": "code",
   "execution_count": 28,
   "id": "dd47c01e",
   "metadata": {},
   "outputs": [
    {
     "data": {
      "text/html": [
       "<div>\n",
       "<style scoped>\n",
       "    .dataframe tbody tr th:only-of-type {\n",
       "        vertical-align: middle;\n",
       "    }\n",
       "\n",
       "    .dataframe tbody tr th {\n",
       "        vertical-align: top;\n",
       "    }\n",
       "\n",
       "    .dataframe thead th {\n",
       "        text-align: right;\n",
       "    }\n",
       "</style>\n",
       "<table border=\"1\" class=\"dataframe\">\n",
       "  <thead>\n",
       "    <tr style=\"text-align: right;\">\n",
       "      <th></th>\n",
       "      <th>Image</th>\n",
       "      <th>liste_kp</th>\n",
       "      <th>liste_des</th>\n",
       "      <th>label</th>\n",
       "    </tr>\n",
       "  </thead>\n",
       "  <tbody>\n",
       "    <tr>\n",
       "      <th>0</th>\n",
       "      <td>dataset\\cloudy1.jpg</td>\n",
       "      <td>(&lt;KeyPoint 000001F2349181E0&gt;, &lt;KeyPoint 000001...</td>\n",
       "      <td>[[51.0, 0.0, 0.0, 0.0, 0.0, 0.0, 1.0, 95.0, 99...</td>\n",
       "      <td>cloudy</td>\n",
       "    </tr>\n",
       "    <tr>\n",
       "      <th>1</th>\n",
       "      <td>dataset\\cloudy10.jpg</td>\n",
       "      <td>(&lt;KeyPoint 000001F2010ED600&gt;, &lt;KeyPoint 000001...</td>\n",
       "      <td>[[55.0, 19.0, 20.0, 3.0, 0.0, 0.0, 0.0, 18.0, ...</td>\n",
       "      <td>cloudy</td>\n",
       "    </tr>\n",
       "    <tr>\n",
       "      <th>2</th>\n",
       "      <td>dataset\\cloudy100.jpg</td>\n",
       "      <td>(&lt;KeyPoint 000001F23EC64B40&gt;, &lt;KeyPoint 000001...</td>\n",
       "      <td>[[71.0, 10.0, 2.0, 22.0, 15.0, 1.0, 0.0, 16.0,...</td>\n",
       "      <td>cloudy</td>\n",
       "    </tr>\n",
       "    <tr>\n",
       "      <th>3</th>\n",
       "      <td>dataset\\cloudy11.jpg</td>\n",
       "      <td>(&lt;KeyPoint 000001F23EC68480&gt;, &lt;KeyPoint 000001...</td>\n",
       "      <td>[[65.0, 16.0, 0.0, 0.0, 2.0, 2.0, 1.0, 3.0, 16...</td>\n",
       "      <td>cloudy</td>\n",
       "    </tr>\n",
       "    <tr>\n",
       "      <th>4</th>\n",
       "      <td>dataset\\cloudy12.jpg</td>\n",
       "      <td>(&lt;KeyPoint 000001F201144D80&gt;, &lt;KeyPoint 000001...</td>\n",
       "      <td>[[27.0, 78.0, 116.0, 22.0, 2.0, 2.0, 0.0, 0.0,...</td>\n",
       "      <td>cloudy</td>\n",
       "    </tr>\n",
       "  </tbody>\n",
       "</table>\n",
       "</div>"
      ],
      "text/plain": [
       "                   Image                                           liste_kp  \\\n",
       "0    dataset\\cloudy1.jpg  (<KeyPoint 000001F2349181E0>, <KeyPoint 000001...   \n",
       "1   dataset\\cloudy10.jpg  (<KeyPoint 000001F2010ED600>, <KeyPoint 000001...   \n",
       "2  dataset\\cloudy100.jpg  (<KeyPoint 000001F23EC64B40>, <KeyPoint 000001...   \n",
       "3   dataset\\cloudy11.jpg  (<KeyPoint 000001F23EC68480>, <KeyPoint 000001...   \n",
       "4   dataset\\cloudy12.jpg  (<KeyPoint 000001F201144D80>, <KeyPoint 000001...   \n",
       "\n",
       "                                           liste_des    label  \n",
       "0  [[51.0, 0.0, 0.0, 0.0, 0.0, 0.0, 1.0, 95.0, 99...   cloudy  \n",
       "1  [[55.0, 19.0, 20.0, 3.0, 0.0, 0.0, 0.0, 18.0, ...   cloudy  \n",
       "2  [[71.0, 10.0, 2.0, 22.0, 15.0, 1.0, 0.0, 16.0,...   cloudy  \n",
       "3  [[65.0, 16.0, 0.0, 0.0, 2.0, 2.0, 1.0, 3.0, 16...   cloudy  \n",
       "4  [[27.0, 78.0, 116.0, 22.0, 2.0, 2.0, 0.0, 0.0,...   cloudy  "
      ]
     },
     "execution_count": 28,
     "metadata": {},
     "output_type": "execute_result"
    }
   ],
   "source": [
    "df.head()"
   ]
  },
  {
   "cell_type": "code",
   "execution_count": 29,
   "id": "9b6697bc",
   "metadata": {},
   "outputs": [],
   "source": [
    "le = preprocessing.LabelEncoder()\n",
    "le.fit(df.label)\n",
    "y=le.transform(df.label)"
   ]
  },
  {
   "cell_type": "code",
   "execution_count": 30,
   "id": "1e3b5fae",
   "metadata": {},
   "outputs": [],
   "source": [
    "X_train, X_test, y_train, y_test = train_test_split (X_features, y , test_size=0.2, random_state=42)"
   ]
  },
  {
   "cell_type": "markdown",
   "id": "c2aff023",
   "metadata": {},
   "source": [
    "## On utilise des algorithmes de classification "
   ]
  },
  {
   "cell_type": "code",
   "execution_count": 56,
   "id": "a8f66a34",
   "metadata": {},
   "outputs": [
    {
     "name": "stderr",
     "output_type": "stream",
     "text": [
      "C:\\Users\\Moog\\anaconda3\\lib\\site-packages\\sklearn\\neural_network\\_multilayer_perceptron.py:614: ConvergenceWarning: Stochastic Optimizer: Maximum iterations (400) reached and the optimization hasn't converged yet.\n",
      "  warnings.warn(\n"
     ]
    }
   ],
   "source": [
    "resultat=[]\n",
    "per=Perceptron()\n",
    "per_model = per.fit(X_train, y_train)\n",
    "resultat.append((\"Perceptron\",per_model.score(X_test, y_test)))\n",
    "clf = MLPClassifier(random_state=1, max_iter=400).fit(X_train, y_train)\n",
    "resultat.append((\"MLP\",clf.score(X_test, y_test)))\n",
    "knn = KNeighborsClassifier()\n",
    "knn_model = knn.fit(X_train, y_train)\n",
    "resultat.append((\"KNN\",knn_model.score(X_test, y_test)))\n",
    "svc = SVC()\n",
    "svc_model = svc.fit(X_train, y_train)\n",
    "resultat.append((\"SVC\",svc_model.score(X_test, y_test)))\n",
    "nu_svc = NuSVC()\n",
    "nu_svc_model = nu_svc.fit(X_train, y_train)\n",
    "resultat.append((\"NuSVC\",nu_svc_model.score(X_test, y_test)))\n",
    "linear_svc = LinearSVC()\n",
    "linear_svc_model= linear_svc.fit(X_train, y_train)\n",
    "resultat.append((\"LinearSVC\",linear_svc_model.score(X_test, y_test)))\n",
    "\n"
   ]
  },
  {
   "cell_type": "code",
   "execution_count": 57,
   "id": "7d302643",
   "metadata": {},
   "outputs": [
    {
     "data": {
      "text/plain": [
       "[('Perceptron', 0.4),\n",
       " ('MLP', 0.6375),\n",
       " ('KNN', 0.525),\n",
       " ('SVC', 0.6375),\n",
       " ('NuSVC', 0.6375),\n",
       " ('LinearSVC', 0.55)]"
      ]
     },
     "execution_count": 57,
     "metadata": {},
     "output_type": "execute_result"
    }
   ],
   "source": [
    "resultat"
   ]
  },
  {
   "cell_type": "code",
   "execution_count": 55,
   "id": "cbddd58d",
   "metadata": {},
   "outputs": [
    {
     "name": "stderr",
     "output_type": "stream",
     "text": [
      "C:\\Users\\Moog\\anaconda3\\lib\\site-packages\\sklearn\\neural_network\\_multilayer_perceptron.py:614: ConvergenceWarning: Stochastic Optimizer: Maximum iterations (400) reached and the optimization hasn't converged yet.\n",
      "  warnings.warn(\n"
     ]
    },
    {
     "data": {
      "text/plain": [
       "0.6375"
      ]
     },
     "execution_count": 55,
     "metadata": {},
     "output_type": "execute_result"
    }
   ],
   "source": [
    "#Test d'amélioration avec pipeline et standarscaler mais je n'obtiens pas de score plus élevée\n",
    "clf_pipe=make_pipeline(StandardScaler(),nu_svc)\n",
    "clf_pipe_model=clf.fit(X_train, y_train)\n",
    "clf_pipe_model.score(X_test, y_test)\n"
   ]
  },
  {
   "cell_type": "markdown",
   "id": "5197152e",
   "metadata": {},
   "source": [
    "Lancement de GridSearchCV sur nos 3 meilleurs modèles afin d'obtenir les meilleurs paramètres pour nos algorithmes et donc une amélioration de nos scores."
   ]
  },
  {
   "cell_type": "code",
   "execution_count": 60,
   "id": "213b325e",
   "metadata": {},
   "outputs": [
    {
     "name": "stdout",
     "output_type": "stream",
     "text": [
      "1.0\n",
      "{'alpha': 0.1, 'hidden_layer_sizes': 13, 'max_iter': 1200, 'random_state': 1, 'solver': 'lbfgs'}\n"
     ]
    }
   ],
   "source": [
    "parameters = {'solver': ['lbfgs'], 'max_iter': [1000,1100,1200,1300,1400,1500,1600,1700,1800,1900,2000 ], 'alpha': 10.0 ** -np.arange(1, 10), 'hidden_layer_sizes':np.arange(10, 15), 'random_state':[0,1,2,3,4,5,6,7,8,9]}\n",
    "mlp_grid = GridSearchCV(MLPClassifier(), parameters, n_jobs=-1)\n",
    "\n",
    "mlp_grid.fit(X_train, y_train)\n",
    "print(mlp_grid.score(X_train, y_train))\n",
    "print(mlp_grid.best_params_)"
   ]
  },
  {
   "cell_type": "code",
   "execution_count": 70,
   "id": "a7cce86e",
   "metadata": {},
   "outputs": [
    {
     "name": "stderr",
     "output_type": "stream",
     "text": [
      "C:\\Users\\Moog\\anaconda3\\lib\\site-packages\\sklearn\\svm\\_base.py:985: ConvergenceWarning: Liblinear failed to converge, increase the number of iterations.\n",
      "  warnings.warn(\"Liblinear failed to converge, increase \"\n",
      "C:\\Users\\Moog\\anaconda3\\lib\\site-packages\\sklearn\\svm\\_base.py:985: ConvergenceWarning: Liblinear failed to converge, increase the number of iterations.\n",
      "  warnings.warn(\"Liblinear failed to converge, increase \"\n",
      "C:\\Users\\Moog\\anaconda3\\lib\\site-packages\\sklearn\\svm\\_base.py:985: ConvergenceWarning: Liblinear failed to converge, increase the number of iterations.\n",
      "  warnings.warn(\"Liblinear failed to converge, increase \"\n",
      "C:\\Users\\Moog\\anaconda3\\lib\\site-packages\\sklearn\\svm\\_base.py:985: ConvergenceWarning: Liblinear failed to converge, increase the number of iterations.\n",
      "  warnings.warn(\"Liblinear failed to converge, increase \"\n",
      "C:\\Users\\Moog\\anaconda3\\lib\\site-packages\\sklearn\\svm\\_base.py:985: ConvergenceWarning: Liblinear failed to converge, increase the number of iterations.\n",
      "  warnings.warn(\"Liblinear failed to converge, increase \"\n",
      "C:\\Users\\Moog\\anaconda3\\lib\\site-packages\\sklearn\\svm\\_base.py:985: ConvergenceWarning: Liblinear failed to converge, increase the number of iterations.\n",
      "  warnings.warn(\"Liblinear failed to converge, increase \"\n",
      "C:\\Users\\Moog\\anaconda3\\lib\\site-packages\\sklearn\\svm\\_base.py:985: ConvergenceWarning: Liblinear failed to converge, increase the number of iterations.\n",
      "  warnings.warn(\"Liblinear failed to converge, increase \"\n",
      "C:\\Users\\Moog\\anaconda3\\lib\\site-packages\\sklearn\\svm\\_base.py:985: ConvergenceWarning: Liblinear failed to converge, increase the number of iterations.\n",
      "  warnings.warn(\"Liblinear failed to converge, increase \"\n",
      "C:\\Users\\Moog\\anaconda3\\lib\\site-packages\\sklearn\\svm\\_base.py:985: ConvergenceWarning: Liblinear failed to converge, increase the number of iterations.\n",
      "  warnings.warn(\"Liblinear failed to converge, increase \"\n",
      "C:\\Users\\Moog\\anaconda3\\lib\\site-packages\\sklearn\\svm\\_base.py:985: ConvergenceWarning: Liblinear failed to converge, increase the number of iterations.\n",
      "  warnings.warn(\"Liblinear failed to converge, increase \"\n",
      "C:\\Users\\Moog\\anaconda3\\lib\\site-packages\\sklearn\\svm\\_base.py:985: ConvergenceWarning: Liblinear failed to converge, increase the number of iterations.\n",
      "  warnings.warn(\"Liblinear failed to converge, increase \"\n",
      "C:\\Users\\Moog\\anaconda3\\lib\\site-packages\\sklearn\\svm\\_base.py:985: ConvergenceWarning: Liblinear failed to converge, increase the number of iterations.\n",
      "  warnings.warn(\"Liblinear failed to converge, increase \"\n",
      "C:\\Users\\Moog\\anaconda3\\lib\\site-packages\\sklearn\\svm\\_base.py:985: ConvergenceWarning: Liblinear failed to converge, increase the number of iterations.\n",
      "  warnings.warn(\"Liblinear failed to converge, increase \"\n",
      "C:\\Users\\Moog\\anaconda3\\lib\\site-packages\\sklearn\\svm\\_base.py:985: ConvergenceWarning: Liblinear failed to converge, increase the number of iterations.\n",
      "  warnings.warn(\"Liblinear failed to converge, increase \"\n",
      "C:\\Users\\Moog\\anaconda3\\lib\\site-packages\\sklearn\\svm\\_base.py:985: ConvergenceWarning: Liblinear failed to converge, increase the number of iterations.\n",
      "  warnings.warn(\"Liblinear failed to converge, increase \"\n",
      "C:\\Users\\Moog\\anaconda3\\lib\\site-packages\\sklearn\\svm\\_base.py:985: ConvergenceWarning: Liblinear failed to converge, increase the number of iterations.\n",
      "  warnings.warn(\"Liblinear failed to converge, increase \"\n",
      "C:\\Users\\Moog\\anaconda3\\lib\\site-packages\\sklearn\\svm\\_base.py:985: ConvergenceWarning: Liblinear failed to converge, increase the number of iterations.\n",
      "  warnings.warn(\"Liblinear failed to converge, increase \"\n",
      "C:\\Users\\Moog\\anaconda3\\lib\\site-packages\\sklearn\\svm\\_base.py:985: ConvergenceWarning: Liblinear failed to converge, increase the number of iterations.\n",
      "  warnings.warn(\"Liblinear failed to converge, increase \"\n",
      "C:\\Users\\Moog\\anaconda3\\lib\\site-packages\\sklearn\\svm\\_base.py:985: ConvergenceWarning: Liblinear failed to converge, increase the number of iterations.\n",
      "  warnings.warn(\"Liblinear failed to converge, increase \"\n",
      "C:\\Users\\Moog\\anaconda3\\lib\\site-packages\\sklearn\\svm\\_base.py:985: ConvergenceWarning: Liblinear failed to converge, increase the number of iterations.\n",
      "  warnings.warn(\"Liblinear failed to converge, increase \"\n",
      "C:\\Users\\Moog\\anaconda3\\lib\\site-packages\\sklearn\\svm\\_base.py:985: ConvergenceWarning: Liblinear failed to converge, increase the number of iterations.\n",
      "  warnings.warn(\"Liblinear failed to converge, increase \"\n",
      "C:\\Users\\Moog\\anaconda3\\lib\\site-packages\\sklearn\\svm\\_base.py:985: ConvergenceWarning: Liblinear failed to converge, increase the number of iterations.\n",
      "  warnings.warn(\"Liblinear failed to converge, increase \"\n",
      "C:\\Users\\Moog\\anaconda3\\lib\\site-packages\\sklearn\\svm\\_base.py:985: ConvergenceWarning: Liblinear failed to converge, increase the number of iterations.\n",
      "  warnings.warn(\"Liblinear failed to converge, increase \"\n"
     ]
    },
    {
     "name": "stdout",
     "output_type": "stream",
     "text": [
      "{'SVC__C': 0.01}\n",
      "0.55\n"
     ]
    }
   ],
   "source": [
    "\n",
    "SVCpipe = Pipeline([('scale', StandardScaler()),\n",
    "                   ('SVC',LinearSVC())])\n",
    "\n",
    "param_grid = {'SVC__C':np.arange(0.01,100,10)}\n",
    "linear_SVC = GridSearchCV(SVCpipe, param_grid,cv=5,return_train_score=True)\n",
    "linear_SVC.fit(X_train,y_train)\n",
    "print(linear_SVC.best_params_)\n",
    "print(linear_svc.score(X_test, y_test))"
   ]
  },
  {
   "cell_type": "code",
   "execution_count": 66,
   "id": "26ce9c8c",
   "metadata": {},
   "outputs": [
    {
     "name": "stdout",
     "output_type": "stream",
     "text": [
      "0.6\n",
      "{'C': 1000, 'gamma': 0.1, 'kernel': 'rbf'}\n"
     ]
    }
   ],
   "source": [
    "parameters = {'C': [0.1, 1, 10, 100, 1000],\n",
    "              'gamma': [1, 0.1, 0.01, 0.001, 0.0001],\n",
    "              'kernel': ['rbf', 'poly', 'sigmoid'],\n",
    "              }\n",
    " \n",
    "svc_grid = GridSearchCV(SVC(), parameters, n_jobs=-1)\n",
    "svc_grid.fit(X_train, y_train)\n",
    "print(svc_grid.score(X_test, y_test))\n",
    "print(svc_grid.best_params_)"
   ]
  },
  {
   "cell_type": "code",
   "execution_count": 64,
   "id": "6757b574",
   "metadata": {},
   "outputs": [
    {
     "name": "stdout",
     "output_type": "stream",
     "text": [
      "0.6375\n",
      "{'metric': 'manhattan', 'n_neighbors': 21, 'weights': 'distance'}\n"
     ]
    }
   ],
   "source": [
    "parameters = {'n_neighbors':range(1,100),\n",
    "               'weights':['uniform', 'distance'],\n",
    "               'metric':['euclidean', 'manhattan'] }\n",
    "knn_grid=GridSearchCV(KNeighborsClassifier(), parameters, cv=5, n_jobs=-1)\n",
    "knn_grid.fit(X_train, y_train)\n",
    "print(knn_grid.score(X_test, y_test))\n",
    "print(knn_grid.best_params_)\n"
   ]
  },
  {
   "cell_type": "markdown",
   "id": "74629fdf",
   "metadata": {},
   "source": [
    "En conclusion le modèle MLP es le meilleur modèle de classification pour ce type de projet."
   ]
  },
  {
   "cell_type": "code",
   "execution_count": null,
   "id": "f316429c",
   "metadata": {},
   "outputs": [],
   "source": []
  }
 ],
 "metadata": {
  "kernelspec": {
   "display_name": "Python 3",
   "language": "python",
   "name": "python3"
  },
  "language_info": {
   "codemirror_mode": {
    "name": "ipython",
    "version": 3
   },
   "file_extension": ".py",
   "mimetype": "text/x-python",
   "name": "python",
   "nbconvert_exporter": "python",
   "pygments_lexer": "ipython3",
   "version": "3.9.7"
  }
 },
 "nbformat": 4,
 "nbformat_minor": 5
}
