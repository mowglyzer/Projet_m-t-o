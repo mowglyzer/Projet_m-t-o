{
 "cells": [
  {
   "cell_type": "markdown",
   "id": "d1e81fd5",
   "metadata": {},
   "source": [
    "#### Créations des descripteurs de chaque image\n",
    "1. Pour chaque image passage en gris et equalisation\n",
    "\n",
    "2. création d'une liste de descripteurs par image (\"sift_keyspoints_img\") qui sera utilisée pour réaliser les histogrammes par image\n",
    "\n",
    "3. création d'une liste de descripteurs pour l'ensemble des images (\"sift_keyspoints_all_imag\") qui sera utilisé pour créer les clusters de descripteurs (on vera çe on détaille  aprés)"
   ]
  },
  {
   "cell_type": "code",
   "execution_count": 9,
   "id": "faa40aaa",
   "metadata": {},
   "outputs": [],
   "source": [
    "import numpy as np\n",
    "import cv2 as cv\n",
    "import datetime as time"
   ]
  },
  {
   "cell_type": "code",
   "execution_count": 7,
   "id": "484739f8",
   "metadata": {},
   "outputs": [
    {
     "ename": "IndentationError",
     "evalue": "expected an indented block (<ipython-input-7-4f1d2e607c3b>, line 8)",
     "output_type": "error",
     "traceback": [
      "\u001b[1;36m  File \u001b[1;32m\"<ipython-input-7-4f1d2e607c3b>\"\u001b[1;36m, line \u001b[1;32m8\u001b[0m\n\u001b[1;33m    sift_keyspoints_all_img    ## concat de chaque descripteur\u001b[0m\n\u001b[1;37m    ^\u001b[0m\n\u001b[1;31mIndentationError\u001b[0m\u001b[1;31m:\u001b[0m expected an indented block\n"
     ]
    }
   ],
   "source": [
    "sift_keyspoints_img=[]\n",
    "for image_num in range(len(list_photos)) :\n",
    "                     # convertir en gray\n",
    "                     # equalisation histogramme\n",
    "                     #descripteur \n",
    "                     # append de sift_clespoints_img\n",
    "sift_keyspoints_all_img    ## concat de chaque descripteur \n",
    "\n",
    "print(\"Nombre de descripteurs : \",  )"
   ]
  },
  {
   "cell_type": "markdown",
   "id": "9e152a8f",
   "metadata": {},
   "source": [
    "## Création des clusters de descripteurs (je vous laisse creuser un peu)\n",
    "* Utilisation de MiniBatchKMeans pour obtenir des temps de traitement raisonnables"
   ]
  },
  {
   "cell_type": "code",
   "execution_count": null,
   "id": "17eac1a6",
   "metadata": {},
   "outputs": [],
   "source": [
    "from sklearn import cluster, metrics\n",
    "\n",
    "# Determination number of clusters\n",
    "temps1=time.time()\n",
    "\n",
    "k = int(round(np.sqrt(len(sift_keypoints_all)),0))\n",
    "print(\"Nombre de clusters estimés : \", k)\n",
    "print(\"Création de\",k, \"clusters de descripteurs ...\")\n",
    "\n",
    "# Clustering\n",
    "kmeans = cluster.MiniBatchKMeans(n_clusters=k, init_size=3*k, random_state=0)\n",
    "kmeans.fit(sift_keypoints_all)\n",
    "\n",
    "duration1=time.time()-temps1\n",
    "print(\"temps de traitement kmeans : \", \"%15.2f\" % duration1, \"secondes\")"
   ]
  },
  {
   "cell_type": "markdown",
   "id": "536d4407",
   "metadata": {},
   "source": [
    "## Création des features des images (je vous laisse creuser un peu)\n",
    "Features d'une image = Histogramme d'une image = Comptage pour une image du nombre de descripteurs par cluster"
   ]
  },
  {
   "cell_type": "markdown",
   "id": "55e3752b",
   "metadata": {},
   "source": [
    "- prédiction des numéros de cluster de chaque descripteur\n",
    "- création d'un histogramme = comptage pour chaque numéro de cluster du nombre de descripteurs de l'image"
   ]
  },
  {
   "cell_type": "code",
   "execution_count": 10,
   "id": "10830728",
   "metadata": {},
   "outputs": [],
   "source": [
    "# Creation of histograms pour une image \n",
    "temps1=time.time()\n",
    "\n",
    "def build_histogram(kmeans, des, image_num): ## fonction qui nou permet de crée un histogramme par image \n",
    "    res = kmeans.predict(des)\n",
    "    hist = np.zeros(len(kmeans.cluster_centers_))\n",
    "    nb_des=len(des)\n",
    "    if nb_des==0 : print(\"problème histogramme image  : \", image_num)\n",
    "    for i in res:\n",
    "        hist[i] += 1.0/nb_des\n",
    "    return hist\n"
   ]
  },
  {
   "cell_type": "code",
   "execution_count": null,
   "id": "a9e01719",
   "metadata": {},
   "outputs": [],
   "source": [
    "# Creation d'une matrice de histograms pour tous les image \n",
    "hist_vectors=[]\n",
    "\n",
    "for i, image_desc in enumerate(sift_keypoints_by_img) :\n",
    "                                         #calcul de histogram\n",
    "    \n",
    "\n",
    "im_features = np.asarray(hist_vectors)\n",
    "\n",
    "duration1=time.time()-temps1\n",
    "print(\"temps de création histogrammes : \", \"%15.2f\" % duration1, \"secondes\")\n"
   ]
  }
 ],
 "metadata": {
  "kernelspec": {
   "display_name": "Python 3",
   "language": "python",
   "name": "python3"
  },
  "language_info": {
   "codemirror_mode": {
    "name": "ipython",
    "version": 3
   },
   "file_extension": ".py",
   "mimetype": "text/x-python",
   "name": "python",
   "nbconvert_exporter": "python",
   "pygments_lexer": "ipython3",
   "version": "3.8.8"
  }
 },
 "nbformat": 4,
 "nbformat_minor": 5
}
